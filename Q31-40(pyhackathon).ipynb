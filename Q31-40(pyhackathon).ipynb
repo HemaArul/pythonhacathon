{
 "cells": [
  {
   "cell_type": "code",
   "execution_count": null,
   "id": "ae7eab8a",
   "metadata": {},
   "outputs": [],
   "source": [
    "pip install openpyxl"
   ]
  },
  {
   "cell_type": "code",
   "execution_count": 4,
   "id": "26fb07e4",
   "metadata": {},
   "outputs": [
    {
     "name": "stdout",
     "output_type": "stream",
     "text": [
      "      EDVisitID  PatientID               VisitDate         EDDischargeTime  \\\n",
      "0             1          1 2020-01-01 00:00:00.000 2020-01-01 11:20:22.924   \n",
      "1            12         12 2020-01-01 02:45:40.302 2020-01-02 02:00:00.517   \n",
      "2            13         13 2020-01-01 03:09:24.701 2020-01-01 05:00:20.852   \n",
      "3            14         14 2020-01-01 03:12:19.349 2020-01-01 04:32:29.142   \n",
      "4            15         15 2020-01-01 03:46:32.698 2020-01-01 06:24:52.741   \n",
      "...         ...        ...                     ...                     ...   \n",
      "1194       1183        929 2020-01-15 10:38:42.570 2020-01-16 02:31:52.023   \n",
      "1195       1186        932 2020-01-15 11:52:37.540 2020-01-16 10:19:41.570   \n",
      "1196       1187        933 2020-01-15 12:11:11.678 2020-01-15 16:41:15.223   \n",
      "1197       1188        934 2020-01-15 12:21:46.006 2020-01-15 18:32:21.060   \n",
      "1198       1189        935 2020-01-15 12:51:14.875 2020-01-15 23:40:41.456   \n",
      "\n",
      "      Acuity ReasonForVisit EDDisposition  \n",
      "0          1   Stomach Ache      Admitted  \n",
      "1          2       Migraine      Admitted  \n",
      "2          3   Stomach Ache      Admitted  \n",
      "3          3       Migraine      Admitted  \n",
      "4          3     Chest Pain      Admitted  \n",
      "...      ...            ...           ...  \n",
      "1194       4     Chest Pain    Discharged  \n",
      "1195       1      Pneumonia    Discharged  \n",
      "1196       1      Pneumonia    Discharged  \n",
      "1197       1      Pneumonia    Discharged  \n",
      "1198       1      Pneumonia    Discharged  \n",
      "\n",
      "[1199 rows x 7 columns]\n"
     ]
    }
   ],
   "source": [
    " import pandas as pd\n",
    "    \n",
    "    \n",
    "from pandas import ExcelWriter\n",
    "from pandas import ExcelFile\n",
    "\n",
    "\n",
    "import numpy as np\n",
    "data = pd.read_excel('HospitalDatabase.xlsx', sheet_name='EDVisits')\n",
    "print(data)\n"
   ]
  },
  {
   "cell_type": "code",
   "execution_count": 3,
   "id": "d0607323",
   "metadata": {},
   "outputs": [
    {
     "name": "stdout",
     "output_type": "stream",
     "text": [
      "     EDVisitID  PatientID               VisitDate         EDDischargeTime  \\\n",
      "0            1          1 2020-01-01 00:00:00.000 2020-01-01 11:20:22.924   \n",
      "1           12         12 2020-01-01 02:45:40.302 2020-01-02 02:00:00.517   \n",
      "2           13         13 2020-01-01 03:09:24.701 2020-01-01 05:00:20.852   \n",
      "3           14         14 2020-01-01 03:12:19.349 2020-01-01 04:32:29.142   \n",
      "4           15         15 2020-01-01 03:46:32.698 2020-01-01 06:24:52.741   \n",
      "..         ...        ...                     ...                     ...   \n",
      "940       1183        929 2020-01-15 10:38:42.570 2020-01-16 02:31:52.023   \n",
      "941       1186        932 2020-01-15 11:52:37.540 2020-01-16 10:19:41.570   \n",
      "942       1187        933 2020-01-15 12:11:11.678 2020-01-15 16:41:15.223   \n",
      "943       1188        934 2020-01-15 12:21:46.006 2020-01-15 18:32:21.060   \n",
      "944       1189        935 2020-01-15 12:51:14.875 2020-01-15 23:40:41.456   \n",
      "\n",
      "     Acuity ReasonForVisit EDDisposition  \n",
      "0         1   Stomach Ache      Admitted  \n",
      "1         2       Migraine      Admitted  \n",
      "2         3   Stomach Ache      Admitted  \n",
      "3         3       Migraine      Admitted  \n",
      "4         3     Chest Pain      Admitted  \n",
      "..      ...            ...           ...  \n",
      "940       4     Chest Pain    discharged  \n",
      "941       1      Pneumonia    discharged  \n",
      "942       1      Pneumonia    discharged  \n",
      "943       1      Pneumonia    discharged  \n",
      "944       1      Pneumonia    discharged  \n",
      "\n",
      "[945 rows x 7 columns]\n"
     ]
    }
   ],
   "source": [
    "data = pd.read_excel('HospitalDatabase.xlsx', sheet_name='EDUnique')\n",
    "print(data)"
   ]
  },
  {
   "cell_type": "code",
   "execution_count": 5,
   "id": "cbd0cfb6",
   "metadata": {},
   "outputs": [
    {
     "name": "stdout",
     "output_type": "stream",
     "text": [
      "The sentence is : Numpy Ninja :: Python Hackathon\n",
      "upper case letters ::['N', 'N', 'P', 'H']\n",
      "upper case letters ::4\n",
      "Lower case letters ::['u', 'm', 'p', 'y', 'i', 'n', 'j', 'a', 'y', 't', 'h', 'o', 'n', 'a', 'c', 'k', 'a', 't', 'h', 'o', 'n']\n",
      "Lower case letters ::21\n"
     ]
    }
   ],
   "source": [
    " #35.Write a function to print all the upper case letter of a given sentence\n",
    " # Extract Upper case characters using List Comprehension and isupper()\n",
    "\n",
    "\n",
    "\n",
    "\n",
    "test_sentence = \"Numpy Ninja :: Python Hackathon\"\n",
    "\n",
    "print(\"The sentence is : \" + str(test_sentence))\n",
    "\n",
    "upper_letters = [char for char in test_sentence if char.isupper()]\n",
    "\n",
    "Lower_letters = [char for char in test_sentence if char.islower()]\n",
    "ll = len(Lower_letters)\n",
    "ul = len(upper_letters)\n",
    "print(\"upper case letters ::\" + str(upper_letters))\n",
    "print(\"upper case letters ::\" + str(ul))\n",
    "\n",
    "print(\"Lower case letters ::\" + str (Lower_letters))\n",
    "\n",
    "print(\"Lower case letters ::\" + str (ll))\n"
   ]
  },
  {
   "cell_type": "code",
   "execution_count": null,
   "id": "5c3feb70",
   "metadata": {},
   "outputs": [],
   "source": []
  },
  {
   "cell_type": "code",
   "execution_count": null,
   "id": "59f1755f",
   "metadata": {},
   "outputs": [],
   "source": []
  }
 ],
 "metadata": {
  "kernelspec": {
   "display_name": "Python 3 (ipykernel)",
   "language": "python",
   "name": "python3"
  },
  "language_info": {
   "codemirror_mode": {
    "name": "ipython",
    "version": 3
   },
   "file_extension": ".py",
   "mimetype": "text/x-python",
   "name": "python",
   "nbconvert_exporter": "python",
   "pygments_lexer": "ipython3",
   "version": "3.9.7"
  }
 },
 "nbformat": 4,
 "nbformat_minor": 5
}
